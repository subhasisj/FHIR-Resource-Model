{
 "cells": [
  {
   "cell_type": "code",
   "execution_count": 1,
   "metadata": {},
   "outputs": [],
   "source": [
    "import pandas as pd\n",
    "import glob\n",
    "import warnings\n",
    "warnings.filterwarnings('ignore')"
   ]
  },
  {
   "cell_type": "code",
   "execution_count": 2,
   "metadata": {},
   "outputs": [],
   "source": [
    "path = './data/csv_files/'\n",
    "all_files = glob.glob(f\"{path}/*.csv\")"
   ]
  },
  {
   "cell_type": "code",
   "execution_count": 3,
   "metadata": {},
   "outputs": [
    {
     "data": {
      "text/plain": [
       "'./data/csv_files\\\\ActivityDefinition.csv'"
      ]
     },
     "execution_count": 3,
     "metadata": {},
     "output_type": "execute_result"
    }
   ],
   "source": [
    "all_files[1]"
   ]
  },
  {
   "cell_type": "code",
   "execution_count": 4,
   "metadata": {},
   "outputs": [],
   "source": [
    "# For all files in the path\n",
    "# Create a consolidated dataframe\n",
    "all_resources = pd.DataFrame()\n",
    "\n",
    "for filename in all_files:\n",
    "    # Read the file\n",
    "    df = pd.read_csv(filename, index_col=None, header=0)\n",
    "    # Get the name of the file\n",
    "    file_name = filename.split('\\\\')[-1].split('.')[0]\n",
    "    # Add a column with the name of the file\n",
    "    df['resource'] = file_name\n",
    "    # Append the dataframe to the consolidated dataframe\n",
    "    all_resources = all_resources.append(df, ignore_index=True)\n",
    "    # Drop the Unnamed column\n",
    "    all_resources.drop(columns=['Unnamed: 0'], inplace=True)\n",
    "# Save the consolidated dataframe\n",
    "all_resources.to_csv('./data/all_resources.csv', index=False)"
   ]
  },
  {
   "cell_type": "code",
   "execution_count": 5,
   "metadata": {},
   "outputs": [
    {
     "data": {
      "text/html": [
       "<div>\n",
       "<style scoped>\n",
       "    .dataframe tbody tr th:only-of-type {\n",
       "        vertical-align: middle;\n",
       "    }\n",
       "\n",
       "    .dataframe tbody tr th {\n",
       "        vertical-align: top;\n",
       "    }\n",
       "\n",
       "    .dataframe thead th {\n",
       "        text-align: right;\n",
       "    }\n",
       "</style>\n",
       "<table border=\"1\" class=\"dataframe\">\n",
       "  <thead>\n",
       "    <tr style=\"text-align: right;\">\n",
       "      <th></th>\n",
       "      <th>Path</th>\n",
       "      <th>Name</th>\n",
       "      <th>Flag</th>\n",
       "      <th>Card</th>\n",
       "      <th>Type</th>\n",
       "      <th>Description</th>\n",
       "      <th>resource</th>\n",
       "    </tr>\n",
       "  </thead>\n",
       "  <tbody>\n",
       "    <tr>\n",
       "      <th>12</th>\n",
       "      <td>Account.guarantor</td>\n",
       "      <td>guarantor</td>\n",
       "      <td>NaN</td>\n",
       "      <td>0..*</td>\n",
       "      <td>BackboneElement</td>\n",
       "      <td>The parties ultimately responsible for balanci...</td>\n",
       "      <td>Account</td>\n",
       "    </tr>\n",
       "    <tr>\n",
       "      <th>13</th>\n",
       "      <td>Account.guarantor.party</td>\n",
       "      <td>party</td>\n",
       "      <td>NaN</td>\n",
       "      <td>1..1</td>\n",
       "      <td>Reference(Patient | RelatedPerson | Organization)</td>\n",
       "      <td>Responsible entity</td>\n",
       "      <td>Account</td>\n",
       "    </tr>\n",
       "    <tr>\n",
       "      <th>14</th>\n",
       "      <td>Account.guarantor.onHold</td>\n",
       "      <td>onHold</td>\n",
       "      <td>NaN</td>\n",
       "      <td>0..1</td>\n",
       "      <td>boolean</td>\n",
       "      <td>Credit or other hold applied</td>\n",
       "      <td>Account</td>\n",
       "    </tr>\n",
       "    <tr>\n",
       "      <th>15</th>\n",
       "      <td>Account.guarantor.period</td>\n",
       "      <td>period</td>\n",
       "      <td>NaN</td>\n",
       "      <td>0..1</td>\n",
       "      <td>Period</td>\n",
       "      <td>Guarantee account during</td>\n",
       "      <td>Account</td>\n",
       "    </tr>\n",
       "    <tr>\n",
       "      <th>16</th>\n",
       "      <td>Account.partOf</td>\n",
       "      <td>partOf</td>\n",
       "      <td>NaN</td>\n",
       "      <td>0..1</td>\n",
       "      <td>Reference(Account)</td>\n",
       "      <td>Reference to a parent Account</td>\n",
       "      <td>Account</td>\n",
       "    </tr>\n",
       "    <tr>\n",
       "      <th>...</th>\n",
       "      <td>...</td>\n",
       "      <td>...</td>\n",
       "      <td>...</td>\n",
       "      <td>...</td>\n",
       "      <td>...</td>\n",
       "      <td>...</td>\n",
       "      <td>...</td>\n",
       "    </tr>\n",
       "    <tr>\n",
       "      <th>4921</th>\n",
       "      <td>VisionPrescription.lensSpecification.diameter</td>\n",
       "      <td>diameter</td>\n",
       "      <td>NaN</td>\n",
       "      <td>0..1</td>\n",
       "      <td>decimal</td>\n",
       "      <td>Contact lens diameter</td>\n",
       "      <td>VisionPrescription</td>\n",
       "    </tr>\n",
       "    <tr>\n",
       "      <th>4922</th>\n",
       "      <td>VisionPrescription.lensSpecification.duration</td>\n",
       "      <td>duration</td>\n",
       "      <td>NaN</td>\n",
       "      <td>0..1</td>\n",
       "      <td>SimpleQuantity</td>\n",
       "      <td>Lens wear duration</td>\n",
       "      <td>VisionPrescription</td>\n",
       "    </tr>\n",
       "    <tr>\n",
       "      <th>4923</th>\n",
       "      <td>VisionPrescription.lensSpecification.color</td>\n",
       "      <td>color</td>\n",
       "      <td>NaN</td>\n",
       "      <td>0..1</td>\n",
       "      <td>string</td>\n",
       "      <td>Color required</td>\n",
       "      <td>VisionPrescription</td>\n",
       "    </tr>\n",
       "    <tr>\n",
       "      <th>4924</th>\n",
       "      <td>VisionPrescription.lensSpecification.brand</td>\n",
       "      <td>brand</td>\n",
       "      <td>NaN</td>\n",
       "      <td>0..1</td>\n",
       "      <td>string</td>\n",
       "      <td>Brand required</td>\n",
       "      <td>VisionPrescription</td>\n",
       "    </tr>\n",
       "    <tr>\n",
       "      <th>4925</th>\n",
       "      <td>VisionPrescription.lensSpecification.note</td>\n",
       "      <td>note</td>\n",
       "      <td>NaN</td>\n",
       "      <td>0..*</td>\n",
       "      <td>Annotation</td>\n",
       "      <td>Notes for coatings</td>\n",
       "      <td>VisionPrescription</td>\n",
       "    </tr>\n",
       "  </tbody>\n",
       "</table>\n",
       "<p>729 rows × 7 columns</p>\n",
       "</div>"
      ],
      "text/plain": [
       "                                               Path         Name Flag  Card  \\\n",
       "12                                Account.guarantor   guarantor   NaN  0..*   \n",
       "13                          Account.guarantor.party       party   NaN  1..1   \n",
       "14                         Account.guarantor.onHold      onHold   NaN  0..1   \n",
       "15                         Account.guarantor.period      period   NaN  0..1   \n",
       "16                                   Account.partOf      partOf   NaN  0..1   \n",
       "...                                             ...          ...  ...   ...   \n",
       "4921  VisionPrescription.lensSpecification.diameter    diameter   NaN  0..1   \n",
       "4922  VisionPrescription.lensSpecification.duration    duration   NaN  0..1   \n",
       "4923     VisionPrescription.lensSpecification.color       color   NaN  0..1   \n",
       "4924     VisionPrescription.lensSpecification.brand       brand   NaN  0..1   \n",
       "4925      VisionPrescription.lensSpecification.note        note   NaN  0..*   \n",
       "\n",
       "                                                   Type  \\\n",
       "12                                      BackboneElement   \n",
       "13    Reference(Patient | RelatedPerson | Organization)   \n",
       "14                                              boolean   \n",
       "15                                               Period   \n",
       "16                                   Reference(Account)   \n",
       "...                                                 ...   \n",
       "4921                                            decimal   \n",
       "4922                                     SimpleQuantity   \n",
       "4923                                             string   \n",
       "4924                                             string   \n",
       "4925                                         Annotation   \n",
       "\n",
       "                                            Description            resource  \n",
       "12    The parties ultimately responsible for balanci...             Account  \n",
       "13                                   Responsible entity             Account  \n",
       "14                         Credit or other hold applied             Account  \n",
       "15                             Guarantee account during             Account  \n",
       "16                        Reference to a parent Account             Account  \n",
       "...                                                 ...                 ...  \n",
       "4921                              Contact lens diameter  VisionPrescription  \n",
       "4922                                 Lens wear duration  VisionPrescription  \n",
       "4923                                     Color required  VisionPrescription  \n",
       "4924                                     Brand required  VisionPrescription  \n",
       "4925                                 Notes for coatings  VisionPrescription  \n",
       "\n",
       "[729 rows x 7 columns]"
      ]
     },
     "execution_count": 5,
     "metadata": {},
     "output_type": "execute_result"
    }
   ],
   "source": [
    "# Show 5 rows per resource\n",
    "all_resources.groupby('resource').tail(5)\n"
   ]
  },
  {
   "cell_type": "code",
   "execution_count": 6,
   "metadata": {},
   "outputs": [
    {
     "data": {
      "text/plain": [
       "146"
      ]
     },
     "execution_count": 6,
     "metadata": {},
     "output_type": "execute_result"
    }
   ],
   "source": [
    "all_resources['resource'].nunique()"
   ]
  },
  {
   "cell_type": "code",
   "execution_count": 7,
   "metadata": {},
   "outputs": [],
   "source": [
    "# Groupby the resource column and turn the name of the resource into a list and Description into a list\n",
    "all_resources_grouped = all_resources.groupby('resource')['Name', 'Description'].agg(lambda x: list(x)).reset_index()"
   ]
  },
  {
   "cell_type": "code",
   "execution_count": 8,
   "metadata": {},
   "outputs": [
    {
     "data": {
      "text/html": [
       "<div>\n",
       "<style scoped>\n",
       "    .dataframe tbody tr th:only-of-type {\n",
       "        vertical-align: middle;\n",
       "    }\n",
       "\n",
       "    .dataframe tbody tr th {\n",
       "        vertical-align: top;\n",
       "    }\n",
       "\n",
       "    .dataframe thead th {\n",
       "        text-align: right;\n",
       "    }\n",
       "</style>\n",
       "<table border=\"1\" class=\"dataframe\">\n",
       "  <thead>\n",
       "    <tr style=\"text-align: right;\">\n",
       "      <th></th>\n",
       "      <th>resource</th>\n",
       "      <th>Name</th>\n",
       "      <th>Description</th>\n",
       "    </tr>\n",
       "  </thead>\n",
       "  <tbody>\n",
       "    <tr>\n",
       "      <th>0</th>\n",
       "      <td>Account</td>\n",
       "      <td>[ Account ,  identifier ,  status ,  type ,  n...</td>\n",
       "      <td>[Tracks balance, charges, for patient or cost ...</td>\n",
       "    </tr>\n",
       "    <tr>\n",
       "      <th>1</th>\n",
       "      <td>ActivityDefinition</td>\n",
       "      <td>[ ActivityDefinition ,  url ,  identifier ,  v...</td>\n",
       "      <td>[The definition of a specific activity to be t...</td>\n",
       "    </tr>\n",
       "    <tr>\n",
       "      <th>2</th>\n",
       "      <td>AdverseEvent</td>\n",
       "      <td>[ AdverseEvent ,  identifier ,  actuality ,  c...</td>\n",
       "      <td>[Medical care, research study or other healthc...</td>\n",
       "    </tr>\n",
       "    <tr>\n",
       "      <th>3</th>\n",
       "      <td>AllergyIntolerance</td>\n",
       "      <td>[ AllergyIntolerance ,  identifier ,  clinical...</td>\n",
       "      <td>[Allergy or Intolerance (generally: Risk of ad...</td>\n",
       "    </tr>\n",
       "    <tr>\n",
       "      <th>4</th>\n",
       "      <td>Appointment</td>\n",
       "      <td>[ Appointment ,  identifier ,  status ,  cance...</td>\n",
       "      <td>[A booking of a healthcare event among patient...</td>\n",
       "    </tr>\n",
       "    <tr>\n",
       "      <th>...</th>\n",
       "      <td>...</td>\n",
       "      <td>...</td>\n",
       "      <td>...</td>\n",
       "    </tr>\n",
       "    <tr>\n",
       "      <th>141</th>\n",
       "      <td>TestReport</td>\n",
       "      <td>[ TestReport ,  identifier ,  name ,  status ,...</td>\n",
       "      <td>[Describes the results of a TestScript executi...</td>\n",
       "    </tr>\n",
       "    <tr>\n",
       "      <th>142</th>\n",
       "      <td>TestScript</td>\n",
       "      <td>[ TestScript ,  url ,  identifier ,  version ,...</td>\n",
       "      <td>[Describes a set of tests+ Warning: Name shoul...</td>\n",
       "    </tr>\n",
       "    <tr>\n",
       "      <th>143</th>\n",
       "      <td>ValueSet</td>\n",
       "      <td>[ ValueSet ,  url ,  identifier ,  version ,  ...</td>\n",
       "      <td>[A set of codes drawn from one or more code sy...</td>\n",
       "    </tr>\n",
       "    <tr>\n",
       "      <th>144</th>\n",
       "      <td>VerificationResult</td>\n",
       "      <td>[ VerificationResult ,  target ,  targetLocati...</td>\n",
       "      <td>[Describes validation requirements, source(s),...</td>\n",
       "    </tr>\n",
       "    <tr>\n",
       "      <th>145</th>\n",
       "      <td>VisionPrescription</td>\n",
       "      <td>[ VisionPrescription ,  identifier ,  status ,...</td>\n",
       "      <td>[Prescription for vision correction products f...</td>\n",
       "    </tr>\n",
       "  </tbody>\n",
       "</table>\n",
       "<p>146 rows × 3 columns</p>\n",
       "</div>"
      ],
      "text/plain": [
       "               resource                                               Name  \\\n",
       "0               Account  [ Account ,  identifier ,  status ,  type ,  n...   \n",
       "1    ActivityDefinition  [ ActivityDefinition ,  url ,  identifier ,  v...   \n",
       "2          AdverseEvent  [ AdverseEvent ,  identifier ,  actuality ,  c...   \n",
       "3    AllergyIntolerance  [ AllergyIntolerance ,  identifier ,  clinical...   \n",
       "4           Appointment  [ Appointment ,  identifier ,  status ,  cance...   \n",
       "..                  ...                                                ...   \n",
       "141          TestReport  [ TestReport ,  identifier ,  name ,  status ,...   \n",
       "142          TestScript  [ TestScript ,  url ,  identifier ,  version ,...   \n",
       "143            ValueSet  [ ValueSet ,  url ,  identifier ,  version ,  ...   \n",
       "144  VerificationResult  [ VerificationResult ,  target ,  targetLocati...   \n",
       "145  VisionPrescription  [ VisionPrescription ,  identifier ,  status ,...   \n",
       "\n",
       "                                           Description  \n",
       "0    [Tracks balance, charges, for patient or cost ...  \n",
       "1    [The definition of a specific activity to be t...  \n",
       "2    [Medical care, research study or other healthc...  \n",
       "3    [Allergy or Intolerance (generally: Risk of ad...  \n",
       "4    [A booking of a healthcare event among patient...  \n",
       "..                                                 ...  \n",
       "141  [Describes the results of a TestScript executi...  \n",
       "142  [Describes a set of tests+ Warning: Name shoul...  \n",
       "143  [A set of codes drawn from one or more code sy...  \n",
       "144  [Describes validation requirements, source(s),...  \n",
       "145  [Prescription for vision correction products f...  \n",
       "\n",
       "[146 rows x 3 columns]"
      ]
     },
     "execution_count": 8,
     "metadata": {},
     "output_type": "execute_result"
    }
   ],
   "source": [
    "all_resources_grouped"
   ]
  },
  {
   "cell_type": "code",
   "execution_count": 9,
   "metadata": {},
   "outputs": [
    {
     "data": {
      "text/html": [
       "<div>\n",
       "<style scoped>\n",
       "    .dataframe tbody tr th:only-of-type {\n",
       "        vertical-align: middle;\n",
       "    }\n",
       "\n",
       "    .dataframe tbody tr th {\n",
       "        vertical-align: top;\n",
       "    }\n",
       "\n",
       "    .dataframe thead th {\n",
       "        text-align: right;\n",
       "    }\n",
       "</style>\n",
       "<table border=\"1\" class=\"dataframe\">\n",
       "  <thead>\n",
       "    <tr style=\"text-align: right;\">\n",
       "      <th></th>\n",
       "      <th>Path</th>\n",
       "      <th>Name</th>\n",
       "      <th>Flag</th>\n",
       "      <th>Card</th>\n",
       "      <th>Type</th>\n",
       "      <th>Description</th>\n",
       "      <th>resource</th>\n",
       "    </tr>\n",
       "  </thead>\n",
       "  <tbody>\n",
       "    <tr>\n",
       "      <th>478</th>\n",
       "      <td>ChargeItem.account</td>\n",
       "      <td>account</td>\n",
       "      <td>Σ</td>\n",
       "      <td>0..*</td>\n",
       "      <td>Reference(Account)</td>\n",
       "      <td>Account to place this charge</td>\n",
       "      <td>ChargeItem</td>\n",
       "    </tr>\n",
       "    <tr>\n",
       "      <th>1600</th>\n",
       "      <td>Encounter.account</td>\n",
       "      <td>account</td>\n",
       "      <td>NaN</td>\n",
       "      <td>0..*</td>\n",
       "      <td>Reference(Account)</td>\n",
       "      <td>The set of accounts that may be used for billi...</td>\n",
       "      <td>Encounter</td>\n",
       "    </tr>\n",
       "    <tr>\n",
       "      <th>1664</th>\n",
       "      <td>EpisodeOfCare.account</td>\n",
       "      <td>account</td>\n",
       "      <td>NaN</td>\n",
       "      <td>0..*</td>\n",
       "      <td>Reference(Account)</td>\n",
       "      <td>The set of accounts that may be used for billi...</td>\n",
       "      <td>EpisodeOfCare</td>\n",
       "    </tr>\n",
       "    <tr>\n",
       "      <th>2445</th>\n",
       "      <td>Invoice.account</td>\n",
       "      <td>account</td>\n",
       "      <td>NaN</td>\n",
       "      <td>0..1</td>\n",
       "      <td>Reference(Account)</td>\n",
       "      <td>Account that is being balanced</td>\n",
       "      <td>Invoice</td>\n",
       "    </tr>\n",
       "  </tbody>\n",
       "</table>\n",
       "</div>"
      ],
      "text/plain": [
       "                       Path       Name Flag  Card                Type  \\\n",
       "478      ChargeItem.account   account     Σ  0..*  Reference(Account)   \n",
       "1600      Encounter.account   account   NaN  0..*  Reference(Account)   \n",
       "1664  EpisodeOfCare.account   account   NaN  0..*  Reference(Account)   \n",
       "2445        Invoice.account   account   NaN  0..1  Reference(Account)   \n",
       "\n",
       "                                            Description       resource  \n",
       "478                        Account to place this charge     ChargeItem  \n",
       "1600  The set of accounts that may be used for billi...      Encounter  \n",
       "1664  The set of accounts that may be used for billi...  EpisodeOfCare  \n",
       "2445                     Account that is being balanced        Invoice  "
      ]
     },
     "execution_count": 9,
     "metadata": {},
     "output_type": "execute_result"
    }
   ],
   "source": [
    "all_resources[all_resources.Name.str.contains(\"account\")]"
   ]
  },
  {
   "cell_type": "markdown",
   "metadata": {},
   "source": [
    "## Train a Few Shot Text Classification using SetFit"
   ]
  },
  {
   "cell_type": "code",
   "execution_count": 10,
   "metadata": {},
   "outputs": [
    {
     "data": {
      "application/vnd.jupyter.widget-view+json": {
       "model_id": "734e8ef82982418590948c3df2b519ed",
       "version_major": 2,
       "version_minor": 0
      },
      "text/plain": [
       "  0%|          | 0/4926 [00:00<?, ?ex/s]"
      ]
     },
     "metadata": {},
     "output_type": "display_data"
    },
    {
     "data": {
      "application/vnd.jupyter.widget-view+json": {
       "model_id": "a87fcdb5383645b28033112ee4002b43",
       "version_major": 2,
       "version_minor": 0
      },
      "text/plain": [
       "  0%|          | 0/4926 [00:00<?, ?ex/s]"
      ]
     },
     "metadata": {},
     "output_type": "display_data"
    }
   ],
   "source": [
    "from datasets import Dataset\n",
    "\n",
    "# Create a dataset from the dataframe\n",
    "dataset = Dataset.from_pandas(all_resources)\n",
    "# Concatenate the Name and Description columns\n",
    "dataset = dataset.map(lambda x: {'text': str(x['Name']) + ' ' + str(x['Description'])})\n",
    "# Rename the resource column to label\n",
    "dataset = dataset.rename_column('resource', 'label')\n",
    "# Convert the label and text to lowercase\n",
    "dataset = dataset.map(lambda x: {'label': x['label'].lower(), 'text': x['text'].lower()})\n",
    "# Remove the columns ['Path', 'Name', 'Flag', 'Card', 'Type', 'Description']\n",
    "dataset = dataset.remove_columns(['Path', 'Name', 'Flag', 'Card', 'Type', 'Description'])"
   ]
  },
  {
   "cell_type": "code",
   "execution_count": 11,
   "metadata": {},
   "outputs": [
    {
     "data": {
      "text/plain": [
       "Dataset({\n",
       "    features: ['label', 'text'],\n",
       "    num_rows: 4926\n",
       "})"
      ]
     },
     "execution_count": 11,
     "metadata": {},
     "output_type": "execute_result"
    }
   ],
   "source": [
    "# Show 5 rows of the dataset\n",
    "dataset"
   ]
  },
  {
   "cell_type": "code",
   "execution_count": null,
   "metadata": {},
   "outputs": [],
   "source": []
  },
  {
   "cell_type": "code",
   "execution_count": 12,
   "metadata": {},
   "outputs": [
    {
     "data": {
      "text/plain": [
       "DatasetDict({\n",
       "    train: Dataset({\n",
       "        features: ['label', 'text'],\n",
       "        num_rows: 3940\n",
       "    })\n",
       "    test: Dataset({\n",
       "        features: ['label', 'text'],\n",
       "        num_rows: 986\n",
       "    })\n",
       "})"
      ]
     },
     "execution_count": 12,
     "metadata": {},
     "output_type": "execute_result"
    }
   ],
   "source": [
    "# Split the dataset into train and test splits\n",
    "train_test_dataset = dataset.train_test_split(test_size=0.2)\n",
    "train_test_dataset"
   ]
  },
  {
   "cell_type": "code",
   "execution_count": 13,
   "metadata": {},
   "outputs": [
    {
     "data": {
      "text/plain": [
       "Dataset({\n",
       "    features: ['label', 'text'],\n",
       "    num_rows: 3940\n",
       "})"
      ]
     },
     "execution_count": 13,
     "metadata": {},
     "output_type": "execute_result"
    }
   ],
   "source": [
    "train_test_dataset['train']"
   ]
  },
  {
   "cell_type": "code",
   "execution_count": 14,
   "metadata": {},
   "outputs": [
    {
     "name": "stderr",
     "output_type": "stream",
     "text": [
      "model_head.pkl not found on HuggingFace Hub, initialising classification head with random weights. You should TRAIN this model on a downstream task to use it for predictions and inference.\n"
     ]
    }
   ],
   "source": [
    "from sentence_transformers.losses import CosineSimilarityLoss\n",
    "from setfit import SetFitModel, SetFitTrainer\n",
    "\n",
    "model = SetFitModel.from_pretrained(\"sentence-transformers/paraphrase-mpnet-base-v2\")"
   ]
  },
  {
   "cell_type": "code",
   "execution_count": 15,
   "metadata": {},
   "outputs": [],
   "source": [
    "# Create trainer\n",
    "trainer = SetFitTrainer(\n",
    "    model=model,\n",
    "    train_dataset=train_test_dataset['train'],\n",
    "    eval_dataset=train_test_dataset['test'],\n",
    "    loss_class=CosineSimilarityLoss,\n",
    "    metric=[\"accuracy\",\"f1\"],\n",
    "    batch_size=4,\n",
    "    num_iterations=8, # The number of text pairs to generate for contrastive learning\n",
    "    num_epochs=1, # The number of epochs to use for constrastive learning\n",
    "    column_mapping={\"text\": \"text\", \"label\": \"label\"} # Map dataset columns to text/label expected by trainer\n",
    ")"
   ]
  },
  {
   "cell_type": "code",
   "execution_count": 16,
   "metadata": {},
   "outputs": [
    {
     "name": "stderr",
     "output_type": "stream",
     "text": [
      "Applying column mapping to training dataset\n",
      "***** Running training *****\n",
      "  Num examples = 63040\n",
      "  Num epochs = 1\n",
      "  Total optimization steps = 15760\n",
      "  Total train batch size = 4\n"
     ]
    },
    {
     "data": {
      "application/vnd.jupyter.widget-view+json": {
       "model_id": "d5e1461ad59e4959947544df6899bf2f",
       "version_major": 2,
       "version_minor": 0
      },
      "text/plain": [
       "Epoch:   0%|          | 0/1 [00:00<?, ?it/s]"
      ]
     },
     "metadata": {},
     "output_type": "display_data"
    },
    {
     "data": {
      "application/vnd.jupyter.widget-view+json": {
       "model_id": "b46ae34a76ff4976bd1a7af376cf81a4",
       "version_major": 2,
       "version_minor": 0
      },
      "text/plain": [
       "Iteration:   0%|          | 0/15760 [00:00<?, ?it/s]"
      ]
     },
     "metadata": {},
     "output_type": "display_data"
    },
    {
     "name": "stderr",
     "output_type": "stream",
     "text": [
      "Applying column mapping to evaluation dataset\n"
     ]
    },
    {
     "ename": "AttributeError",
     "evalue": "'list' object has no attribute 'replace'",
     "output_type": "error",
     "traceback": [
      "\u001b[1;31m---------------------------------------------------------------------------\u001b[0m",
      "\u001b[1;31mAttributeError\u001b[0m                            Traceback (most recent call last)",
      "\u001b[1;32md:\\Repositories\\FHIR-Resources\\01. Train-FHIR-Resources.ipynb Cell 18\u001b[0m in \u001b[0;36m<module>\u001b[1;34m\u001b[0m\n\u001b[0;32m      <a href='vscode-notebook-cell:/d%3A/Repositories/FHIR-Resources/01.%20Train-FHIR-Resources.ipynb#X21sZmlsZQ%3D%3D?line=0'>1</a>\u001b[0m \u001b[39m# Train and evaluate\u001b[39;00m\n\u001b[0;32m      <a href='vscode-notebook-cell:/d%3A/Repositories/FHIR-Resources/01.%20Train-FHIR-Resources.ipynb#X21sZmlsZQ%3D%3D?line=1'>2</a>\u001b[0m trainer\u001b[39m.\u001b[39mtrain()\n\u001b[1;32m----> <a href='vscode-notebook-cell:/d%3A/Repositories/FHIR-Resources/01.%20Train-FHIR-Resources.ipynb#X21sZmlsZQ%3D%3D?line=2'>3</a>\u001b[0m metrics \u001b[39m=\u001b[39m trainer\u001b[39m.\u001b[39;49mevaluate()\n",
      "File \u001b[1;32md:\\Anaconda\\envs\\all-purpose-gpu\\lib\\site-packages\\setfit\\trainer.py:296\u001b[0m, in \u001b[0;36mSetFitTrainer.evaluate\u001b[1;34m(self)\u001b[0m\n\u001b[0;32m    294\u001b[0m     eval_dataset \u001b[39m=\u001b[39m \u001b[39mself\u001b[39m\u001b[39m.\u001b[39m_apply_column_mapping(\u001b[39mself\u001b[39m\u001b[39m.\u001b[39meval_dataset, \u001b[39mself\u001b[39m\u001b[39m.\u001b[39mcolumn_mapping)\n\u001b[0;32m    295\u001b[0m metric_config \u001b[39m=\u001b[39m \u001b[39m\"\u001b[39m\u001b[39mmultilabel\u001b[39m\u001b[39m\"\u001b[39m \u001b[39mif\u001b[39;00m \u001b[39mself\u001b[39m\u001b[39m.\u001b[39mmodel\u001b[39m.\u001b[39mmulti_target_strategy \u001b[39mis\u001b[39;00m \u001b[39mnot\u001b[39;00m \u001b[39mNone\u001b[39;00m \u001b[39melse\u001b[39;00m \u001b[39mNone\u001b[39;00m\n\u001b[1;32m--> 296\u001b[0m metric_fn \u001b[39m=\u001b[39m evaluate\u001b[39m.\u001b[39;49mload(\u001b[39mself\u001b[39;49m\u001b[39m.\u001b[39;49mmetric, config_name\u001b[39m=\u001b[39;49mmetric_config)\n\u001b[0;32m    297\u001b[0m x_test \u001b[39m=\u001b[39m eval_dataset[\u001b[39m\"\u001b[39m\u001b[39mtext\u001b[39m\u001b[39m\"\u001b[39m]\n\u001b[0;32m    298\u001b[0m y_test \u001b[39m=\u001b[39m eval_dataset[\u001b[39m\"\u001b[39m\u001b[39mlabel\u001b[39m\u001b[39m\"\u001b[39m]\n",
      "File \u001b[1;32md:\\Anaconda\\envs\\all-purpose-gpu\\lib\\site-packages\\evaluate\\loading.py:702\u001b[0m, in \u001b[0;36mload\u001b[1;34m(path, config_name, module_type, process_id, num_process, cache_dir, experiment_id, keep_in_memory, download_config, download_mode, revision, **init_kwargs)\u001b[0m\n\u001b[0;32m    674\u001b[0m \u001b[39m\"\"\"Load a `evaluate.EvaluationModule`.\u001b[39;00m\n\u001b[0;32m    675\u001b[0m \n\u001b[0;32m    676\u001b[0m \u001b[39mArgs:\u001b[39;00m\n\u001b[1;32m   (...)\u001b[0m\n\u001b[0;32m    699\u001b[0m \u001b[39m    `evaluate.EvaluationModule`\u001b[39;00m\n\u001b[0;32m    700\u001b[0m \u001b[39m\"\"\"\u001b[39;00m\n\u001b[0;32m    701\u001b[0m download_mode \u001b[39m=\u001b[39m DownloadMode(download_mode \u001b[39mor\u001b[39;00m DownloadMode\u001b[39m.\u001b[39mREUSE_DATASET_IF_EXISTS)\n\u001b[1;32m--> 702\u001b[0m evaluation_module \u001b[39m=\u001b[39m evaluation_module_factory(\n\u001b[0;32m    703\u001b[0m     path, module_type\u001b[39m=\u001b[39;49mmodule_type, revision\u001b[39m=\u001b[39;49mrevision, download_config\u001b[39m=\u001b[39;49mdownload_config, download_mode\u001b[39m=\u001b[39;49mdownload_mode\n\u001b[0;32m    704\u001b[0m )\n\u001b[0;32m    705\u001b[0m evaluation_cls \u001b[39m=\u001b[39m import_main_class(evaluation_module\u001b[39m.\u001b[39mmodule_path)\n\u001b[0;32m    706\u001b[0m evaluation_instance \u001b[39m=\u001b[39m evaluation_cls(\n\u001b[0;32m    707\u001b[0m     config_name\u001b[39m=\u001b[39mconfig_name,\n\u001b[0;32m    708\u001b[0m     process_id\u001b[39m=\u001b[39mprocess_id,\n\u001b[1;32m   (...)\u001b[0m\n\u001b[0;32m    714\u001b[0m     \u001b[39m*\u001b[39m\u001b[39m*\u001b[39minit_kwargs,\n\u001b[0;32m    715\u001b[0m )\n",
      "File \u001b[1;32md:\\Anaconda\\envs\\all-purpose-gpu\\lib\\site-packages\\evaluate\\loading.py:594\u001b[0m, in \u001b[0;36mevaluation_module_factory\u001b[1;34m(path, module_type, revision, download_config, download_mode, force_local_path, dynamic_modules_path, **download_kwargs)\u001b[0m\n\u001b[0;32m    591\u001b[0m download_config\u001b[39m.\u001b[39mextract_compressed_file \u001b[39m=\u001b[39m \u001b[39mTrue\u001b[39;00m\n\u001b[0;32m    592\u001b[0m download_config\u001b[39m.\u001b[39mforce_extract \u001b[39m=\u001b[39m \u001b[39mTrue\u001b[39;00m\n\u001b[1;32m--> 594\u001b[0m filename \u001b[39m=\u001b[39m \u001b[39mlist\u001b[39m(\u001b[39mfilter\u001b[39m(\u001b[39mlambda\u001b[39;00m x: x, path\u001b[39m.\u001b[39;49mreplace(os\u001b[39m.\u001b[39msep, \u001b[39m\"\u001b[39m\u001b[39m/\u001b[39m\u001b[39m\"\u001b[39m)\u001b[39m.\u001b[39msplit(\u001b[39m\"\u001b[39m\u001b[39m/\u001b[39m\u001b[39m\"\u001b[39m)))[\u001b[39m-\u001b[39m\u001b[39m1\u001b[39m]\n\u001b[0;32m    595\u001b[0m \u001b[39mif\u001b[39;00m \u001b[39mnot\u001b[39;00m filename\u001b[39m.\u001b[39mendswith(\u001b[39m\"\u001b[39m\u001b[39m.py\u001b[39m\u001b[39m\"\u001b[39m):\n\u001b[0;32m    596\u001b[0m     filename \u001b[39m=\u001b[39m filename \u001b[39m+\u001b[39m \u001b[39m\"\u001b[39m\u001b[39m.py\u001b[39m\u001b[39m\"\u001b[39m\n",
      "\u001b[1;31mAttributeError\u001b[0m: 'list' object has no attribute 'replace'"
     ]
    }
   ],
   "source": [
    "# Train and evaluate\n",
    "trainer.train()\n",
    "metrics = trainer.evaluate()"
   ]
  },
  {
   "cell_type": "code",
   "execution_count": 18,
   "metadata": {},
   "outputs": [
    {
     "name": "stderr",
     "output_type": "stream",
     "text": [
      "Applying column mapping to evaluation dataset\n"
     ]
    },
    {
     "ename": "AttributeError",
     "evalue": "'list' object has no attribute 'replace'",
     "output_type": "error",
     "traceback": [
      "\u001b[1;31m---------------------------------------------------------------------------\u001b[0m",
      "\u001b[1;31mAttributeError\u001b[0m                            Traceback (most recent call last)",
      "\u001b[1;32md:\\Repositories\\FHIR-Resources\\01. Train-FHIR-Resources.ipynb Cell 19\u001b[0m in \u001b[0;36m<module>\u001b[1;34m\u001b[0m\n\u001b[1;32m----> <a href='vscode-notebook-cell:/d%3A/Repositories/FHIR-Resources/01.%20Train-FHIR-Resources.ipynb#X22sZmlsZQ%3D%3D?line=0'>1</a>\u001b[0m trainer\u001b[39m.\u001b[39;49mevaluate()\n",
      "File \u001b[1;32md:\\Anaconda\\envs\\all-purpose-gpu\\lib\\site-packages\\setfit\\trainer.py:296\u001b[0m, in \u001b[0;36mSetFitTrainer.evaluate\u001b[1;34m(self)\u001b[0m\n\u001b[0;32m    294\u001b[0m     eval_dataset \u001b[39m=\u001b[39m \u001b[39mself\u001b[39m\u001b[39m.\u001b[39m_apply_column_mapping(\u001b[39mself\u001b[39m\u001b[39m.\u001b[39meval_dataset, \u001b[39mself\u001b[39m\u001b[39m.\u001b[39mcolumn_mapping)\n\u001b[0;32m    295\u001b[0m metric_config \u001b[39m=\u001b[39m \u001b[39m\"\u001b[39m\u001b[39mmultilabel\u001b[39m\u001b[39m\"\u001b[39m \u001b[39mif\u001b[39;00m \u001b[39mself\u001b[39m\u001b[39m.\u001b[39mmodel\u001b[39m.\u001b[39mmulti_target_strategy \u001b[39mis\u001b[39;00m \u001b[39mnot\u001b[39;00m \u001b[39mNone\u001b[39;00m \u001b[39melse\u001b[39;00m \u001b[39mNone\u001b[39;00m\n\u001b[1;32m--> 296\u001b[0m metric_fn \u001b[39m=\u001b[39m evaluate\u001b[39m.\u001b[39;49mload(\u001b[39mself\u001b[39;49m\u001b[39m.\u001b[39;49mmetric, config_name\u001b[39m=\u001b[39;49mmetric_config)\n\u001b[0;32m    297\u001b[0m x_test \u001b[39m=\u001b[39m eval_dataset[\u001b[39m\"\u001b[39m\u001b[39mtext\u001b[39m\u001b[39m\"\u001b[39m]\n\u001b[0;32m    298\u001b[0m y_test \u001b[39m=\u001b[39m eval_dataset[\u001b[39m\"\u001b[39m\u001b[39mlabel\u001b[39m\u001b[39m\"\u001b[39m]\n",
      "File \u001b[1;32md:\\Anaconda\\envs\\all-purpose-gpu\\lib\\site-packages\\evaluate\\loading.py:702\u001b[0m, in \u001b[0;36mload\u001b[1;34m(path, config_name, module_type, process_id, num_process, cache_dir, experiment_id, keep_in_memory, download_config, download_mode, revision, **init_kwargs)\u001b[0m\n\u001b[0;32m    674\u001b[0m \u001b[39m\"\"\"Load a `evaluate.EvaluationModule`.\u001b[39;00m\n\u001b[0;32m    675\u001b[0m \n\u001b[0;32m    676\u001b[0m \u001b[39mArgs:\u001b[39;00m\n\u001b[1;32m   (...)\u001b[0m\n\u001b[0;32m    699\u001b[0m \u001b[39m    `evaluate.EvaluationModule`\u001b[39;00m\n\u001b[0;32m    700\u001b[0m \u001b[39m\"\"\"\u001b[39;00m\n\u001b[0;32m    701\u001b[0m download_mode \u001b[39m=\u001b[39m DownloadMode(download_mode \u001b[39mor\u001b[39;00m DownloadMode\u001b[39m.\u001b[39mREUSE_DATASET_IF_EXISTS)\n\u001b[1;32m--> 702\u001b[0m evaluation_module \u001b[39m=\u001b[39m evaluation_module_factory(\n\u001b[0;32m    703\u001b[0m     path, module_type\u001b[39m=\u001b[39;49mmodule_type, revision\u001b[39m=\u001b[39;49mrevision, download_config\u001b[39m=\u001b[39;49mdownload_config, download_mode\u001b[39m=\u001b[39;49mdownload_mode\n\u001b[0;32m    704\u001b[0m )\n\u001b[0;32m    705\u001b[0m evaluation_cls \u001b[39m=\u001b[39m import_main_class(evaluation_module\u001b[39m.\u001b[39mmodule_path)\n\u001b[0;32m    706\u001b[0m evaluation_instance \u001b[39m=\u001b[39m evaluation_cls(\n\u001b[0;32m    707\u001b[0m     config_name\u001b[39m=\u001b[39mconfig_name,\n\u001b[0;32m    708\u001b[0m     process_id\u001b[39m=\u001b[39mprocess_id,\n\u001b[1;32m   (...)\u001b[0m\n\u001b[0;32m    714\u001b[0m     \u001b[39m*\u001b[39m\u001b[39m*\u001b[39minit_kwargs,\n\u001b[0;32m    715\u001b[0m )\n",
      "File \u001b[1;32md:\\Anaconda\\envs\\all-purpose-gpu\\lib\\site-packages\\evaluate\\loading.py:594\u001b[0m, in \u001b[0;36mevaluation_module_factory\u001b[1;34m(path, module_type, revision, download_config, download_mode, force_local_path, dynamic_modules_path, **download_kwargs)\u001b[0m\n\u001b[0;32m    591\u001b[0m download_config\u001b[39m.\u001b[39mextract_compressed_file \u001b[39m=\u001b[39m \u001b[39mTrue\u001b[39;00m\n\u001b[0;32m    592\u001b[0m download_config\u001b[39m.\u001b[39mforce_extract \u001b[39m=\u001b[39m \u001b[39mTrue\u001b[39;00m\n\u001b[1;32m--> 594\u001b[0m filename \u001b[39m=\u001b[39m \u001b[39mlist\u001b[39m(\u001b[39mfilter\u001b[39m(\u001b[39mlambda\u001b[39;00m x: x, path\u001b[39m.\u001b[39;49mreplace(os\u001b[39m.\u001b[39msep, \u001b[39m\"\u001b[39m\u001b[39m/\u001b[39m\u001b[39m\"\u001b[39m)\u001b[39m.\u001b[39msplit(\u001b[39m\"\u001b[39m\u001b[39m/\u001b[39m\u001b[39m\"\u001b[39m)))[\u001b[39m-\u001b[39m\u001b[39m1\u001b[39m]\n\u001b[0;32m    595\u001b[0m \u001b[39mif\u001b[39;00m \u001b[39mnot\u001b[39;00m filename\u001b[39m.\u001b[39mendswith(\u001b[39m\"\u001b[39m\u001b[39m.py\u001b[39m\u001b[39m\"\u001b[39m):\n\u001b[0;32m    596\u001b[0m     filename \u001b[39m=\u001b[39m filename \u001b[39m+\u001b[39m \u001b[39m\"\u001b[39m\u001b[39m.py\u001b[39m\u001b[39m\"\u001b[39m\n",
      "\u001b[1;31mAttributeError\u001b[0m: 'list' object has no attribute 'replace'"
     ]
    }
   ],
   "source": [
    "trainer.evaluate()"
   ]
  },
  {
   "cell_type": "code",
   "execution_count": null,
   "metadata": {},
   "outputs": [],
   "source": []
  }
 ],
 "metadata": {
  "kernelspec": {
   "display_name": "Python 3.8.12 ('all-purpose-gpu')",
   "language": "python",
   "name": "python3"
  },
  "language_info": {
   "codemirror_mode": {
    "name": "ipython",
    "version": 3
   },
   "file_extension": ".py",
   "mimetype": "text/x-python",
   "name": "python",
   "nbconvert_exporter": "python",
   "pygments_lexer": "ipython3",
   "version": "3.8.12"
  },
  "orig_nbformat": 4,
  "vscode": {
   "interpreter": {
    "hash": "988aea983bc49b4de6555a9151e99301026502c3eb4adf0dc68b340a087613cc"
   }
  }
 },
 "nbformat": 4,
 "nbformat_minor": 2
}
